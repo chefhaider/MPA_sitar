{
 "cells": [
  {
   "cell_type": "code",
   "execution_count": 5,
   "metadata": {},
   "outputs": [
    {
     "name": "stdout",
     "output_type": "stream",
     "text": [
      "MIDI file 'sitar_notes.mid' created successfully.\n",
      "Playing the MIDI file...\n"
     ]
    }
   ],
   "source": [
    "import mido\n",
    "from mido import Message, MidiFile, MidiTrack\n",
    "from IPython.display import Audio, display\n",
    "import tempfile\n",
    "import pygame\n",
    "\n",
    "def create_sitar_midi():\n",
    "    # Create a new MIDI file and add a track\n",
    "    midi_file = MidiFile()\n",
    "    track = MidiTrack()\n",
    "    midi_file.tracks.append(track)\n",
    "\n",
    "    # Define a refined list of sitar notes (MIDI note numbers) and durations\n",
    "    # Notes for the national anthem of Pakistan (Qaumī Tarānah)\n",
    "    sitar_notes = [\n",
    "        (x,480) for x in range(60,72)\n",
    "    ]\n",
    "\n",
    "    # Add a program change message to select a sitar sound (MIDI Program #105 is Sitar)\n",
    "    track.append(Message('program_change', program=104, time=0))\n",
    "\n",
    "    # Add the notes to the track\n",
    "    total_time = 0\n",
    "    for note, duration in sitar_notes:\n",
    "        track.append(Message('note_on', note=note, velocity=64, time=total_time))\n",
    "        total_time = duration  # Ensure notes play sequentially\n",
    "        track.append(Message('note_off', note=note, velocity=64, time=total_time))\n",
    "\n",
    "    # Save the MIDI file\n",
    "    midi_file.save('sitar_notes.mid')\n",
    "    print(\"MIDI file 'sitar_notes.mid' created successfully.\")\n",
    "\n",
    "def play_midi_file(file_path):\n",
    "    \"\"\"Play a MIDI file in a Jupyter Notebook.\"\"\"\n",
    "    pygame.mixer.init()\n",
    "    pygame.mixer.music.load(file_path)\n",
    "    pygame.mixer.music.play()\n",
    "    while pygame.mixer.music.get_busy():\n",
    "        continue\n",
    "\n",
    "if __name__ == \"__main__\":\n",
    "    create_sitar_midi()\n",
    "    print(\"Playing the MIDI file...\")\n",
    "    play_midi_file('sitar_notes.mid')\n"
   ]
  }
 ],
 "metadata": {
  "kernelspec": {
   "display_name": "uni-env",
   "language": "python",
   "name": "python3"
  },
  "language_info": {
   "codemirror_mode": {
    "name": "ipython",
    "version": 3
   },
   "file_extension": ".py",
   "mimetype": "text/x-python",
   "name": "python",
   "nbconvert_exporter": "python",
   "pygments_lexer": "ipython3",
   "version": "3.11.9"
  }
 },
 "nbformat": 4,
 "nbformat_minor": 2
}
