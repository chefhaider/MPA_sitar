{
 "cells": [
  {
   "cell_type": "code",
   "execution_count": 1,
   "metadata": {},
   "outputs": [
    {
     "name": "stdout",
     "output_type": "stream",
     "text": [
      "MIDI file 'sitar_notes.mid' created successfully.\n"
     ]
    }
   ],
   "source": [
    "import mido\n",
    "from mido import Message, MidiFile, MidiTrack\n",
    "from IPython.display import Audio, display\n",
    "\n",
    "# Create a new MIDI file and add a track\n",
    "midi_file = MidiFile()\n",
    "track = MidiTrack()\n",
    "midi_file.tracks.append(track)\n",
    "\n",
    "# Define a refined list of sitar notes (MIDI note numbers) and durations\n",
    "# Notes for the national anthem of Pakistan (Qaumī Tarānah)\n",
    "sitar_notes = [\n",
    "    (x,480) for x in range(60,72)\n",
    "]\n",
    "\n",
    "# Add a program change message to select a sitar sound (MIDI Program #105 is Sitar)\n",
    "track.append(Message('program_change', program=1, time=0))\n",
    "\n",
    "# Add the notes to the track\n",
    "total_time = 0\n",
    "for note, duration in sitar_notes:\n",
    "    track.append(Message('note_on', note=note, velocity=64, time=total_time))\n",
    "    total_time = duration  # Ensure notes play sequentially\n",
    "    track.append(Message('note_off', note=note, velocity=64, time=total_time))\n",
    "\n",
    "# Save the MIDI file\n",
    "midi_file.save('music_notes.mid')\n",
    "print(\"MIDI file 'sitar_notes.mid' created successfully.\")"
   ]
  },
  {
   "cell_type": "code",
   "execution_count": 2,
   "metadata": {
    "ExecuteTime": {
     "end_time": "2025-01-22T20:00:15.483537Z",
     "start_time": "2025-01-22T20:00:15.421890Z"
    }
   },
   "outputs": [
    {
     "name": "stderr",
     "output_type": "stream",
     "text": [
      "fluidsynth: error: fluid_is_soundfont(): fopen() failed: 'File does not exist.'\n",
      "Parameter '/home/chef-haider/.fluidsynth/default_sound_font.sf2' not a SoundFont or MIDI file or error occurred identifying it.\n"
     ]
    },
    {
     "name": "stdout",
     "output_type": "stream",
     "text": [
      "FluidSynth runtime version 2.3.4\n",
      "Copyright (C) 2000-2023 Peter Hanappe and others.\n",
      "Distributed under the LGPL license.\n",
      "SoundFont(R) is a registered trademark of Creative Technology Ltd.\n",
      "\n",
      "Rendering audio to file 'music_notes.wav'..\n"
     ]
    }
   ],
   "source": [
    "from IPython.display import Audio\n",
    "from midi2audio import FluidSynth\n",
    "\n",
    "fs = FluidSynth()\n",
    "fs.midi_to_audio('music_notes.mid', 'music_notes.wav')\n",
    "\n"
   ]
  }
 ],
 "metadata": {
  "kernelspec": {
   "display_name": "Python 3 (ipykernel)",
   "language": "python",
   "name": "python3"
  },
  "language_info": {
   "codemirror_mode": {
    "name": "ipython",
    "version": 3
   },
   "file_extension": ".py",
   "mimetype": "text/x-python",
   "name": "python",
   "nbconvert_exporter": "python",
   "pygments_lexer": "ipython3",
   "version": "3.12.8"
  }
 },
 "nbformat": 4,
 "nbformat_minor": 4
}
